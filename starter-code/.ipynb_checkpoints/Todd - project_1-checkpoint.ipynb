{
 "cells": [
  {
   "cell_type": "markdown",
   "metadata": {},
   "source": [
    "# Project 1\n",
    "\n",
    "## Step 1: Open the `sat_scores.csv` file. Investigate the data, and answer the questions below.\n"
   ]
  },
  {
   "cell_type": "markdown",
   "metadata": {},
   "source": [
    "##### 1. What does the data describe?"
   ]
  },
  {
   "cell_type": "markdown",
   "metadata": {},
   "source": []
  },
  {
   "cell_type": "markdown",
   "metadata": {},
   "source": [
    "##### 2. Does the data look complete? Are there any obvious issues with the observations?"
   ]
  },
  {
   "cell_type": "markdown",
   "metadata": {},
   "source": []
  },
  {
   "cell_type": "markdown",
   "metadata": {},
   "source": [
    "##### 3. Create a data dictionary for the dataset."
   ]
  },
  {
   "cell_type": "markdown",
   "metadata": {
    "collapsed": true
   },
   "source": []
  },
  {
   "cell_type": "markdown",
   "metadata": {},
   "source": [
    "## Step 2: Load the data."
   ]
  },
  {
   "cell_type": "markdown",
   "metadata": {},
   "source": [
    "##### 4. Load the data into a list of lists"
   ]
  },
  {
   "cell_type": "code",
   "execution_count": 1,
   "metadata": {
    "collapsed": false
   },
   "outputs": [],
   "source": [
    "import csv\n",
    "sat_scores = []\n",
    "with open('../assets/sat_scores.csv', 'rU') as data:\n",
    "    scores = csv.reader(data)\n",
    "    for i in scores:\n",
    "        sat_scores.append(i)\n"
   ]
  },
  {
   "cell_type": "markdown",
   "metadata": {},
   "source": [
    "##### 5. Print the data"
   ]
  },
  {
   "cell_type": "code",
   "execution_count": 2,
   "metadata": {
    "collapsed": true
   },
   "outputs": [
    {
     "data": {
      "text/plain": [
       "[['State', 'Rate', 'Verbal', 'Math'],\n",
       " ['CT', '82', '509', '510'],\n",
       " ['NJ', '81', '499', '513'],\n",
       " ['MA', '79', '511', '515'],\n",
       " ['NY', '77', '495', '505'],\n",
       " ['NH', '72', '520', '516'],\n",
       " ['RI', '71', '501', '499'],\n",
       " ['PA', '71', '500', '499'],\n",
       " ['VT', '69', '511', '506'],\n",
       " ['ME', '69', '506', '500'],\n",
       " ['VA', '68', '510', '501'],\n",
       " ['DE', '67', '501', '499'],\n",
       " ['MD', '65', '508', '510'],\n",
       " ['NC', '65', '493', '499'],\n",
       " ['GA', '63', '491', '489'],\n",
       " ['IN', '60', '499', '501'],\n",
       " ['SC', '57', '486', '488'],\n",
       " ['DC', '56', '482', '474'],\n",
       " ['OR', '55', '526', '526'],\n",
       " ['FL', '54', '498', '499'],\n",
       " ['WA', '53', '527', '527'],\n",
       " ['TX', '53', '493', '499'],\n",
       " ['HI', '52', '485', '515'],\n",
       " ['AK', '51', '514', '510'],\n",
       " ['CA', '51', '498', '517'],\n",
       " ['AZ', '34', '523', '525'],\n",
       " ['NV', '33', '509', '515'],\n",
       " ['CO', '31', '539', '542'],\n",
       " ['OH', '26', '534', '439'],\n",
       " ['MT', '23', '539', '539'],\n",
       " ['WV', '18', '527', '512'],\n",
       " ['ID', '17', '543', '542'],\n",
       " ['TN', '13', '562', '553'],\n",
       " ['NM', '13', '551', '542'],\n",
       " ['IL', '12', '576', '589'],\n",
       " ['KY', '12', '550', '550'],\n",
       " ['WY', '11', '547', '545'],\n",
       " ['MI', '11', '561', '572'],\n",
       " ['MN', '9', '580', '589'],\n",
       " ['KS', '9', '577', '580'],\n",
       " ['AL', '9', '559', '554'],\n",
       " ['NE', '8', '562', '568'],\n",
       " ['OK', '8', '567', '561'],\n",
       " ['MO', '8', '577', '577'],\n",
       " ['LA', '7', '564', '562'],\n",
       " ['WI', '6', '584', '596'],\n",
       " ['AR', '6', '562', '550'],\n",
       " ['UT', '5', '575', '570'],\n",
       " ['IA', '5', '593', '603'],\n",
       " ['SD', '4', '577', '582'],\n",
       " ['ND', '4', '592', '599'],\n",
       " ['MS', '4', '566', '551'],\n",
       " ['All', '45', '506', '514']]"
      ]
     },
     "execution_count": 2,
     "metadata": {},
     "output_type": "execute_result"
    }
   ],
   "source": [
    "sat_scores"
   ]
  },
  {
   "cell_type": "markdown",
   "metadata": {
    "collapsed": true
   },
   "source": [
    "##### 6. Extract a list of the labels from the data, and remove them from the data."
   ]
  },
  {
   "cell_type": "code",
   "execution_count": 3,
   "metadata": {
    "collapsed": false
   },
   "outputs": [],
   "source": [
    "labels = sat_scores[0]"
   ]
  },
  {
   "cell_type": "code",
   "execution_count": 4,
   "metadata": {
    "collapsed": false
   },
   "outputs": [],
   "source": [
    "sat_scores_data = sat_scores[1:]"
   ]
  },
  {
   "cell_type": "markdown",
   "metadata": {},
   "source": [
    "##### 7. Create a list of State names extracted from the data. (Hint: use the list of labels to index on the State column)"
   ]
  },
  {
   "cell_type": "code",
   "execution_count": 5,
   "metadata": {
    "collapsed": false
   },
   "outputs": [],
   "source": [
    "# list comprehension name extraction \n",
    "# for loop name extraction\n",
    "#states = []\n",
    "#for i in sat_scores_data:\n",
    "    #states.append(i[0])\n",
    "    \n",
    "state_list = [i[0:1] for i in sat_scores_data]\n",
    "scores_list = [i[1:4] for i in sat_scores_data]"
   ]
  },
  {
   "cell_type": "code",
   "execution_count": 6,
   "metadata": {
    "collapsed": false,
    "scrolled": true
   },
   "outputs": [
    {
     "data": {
      "text/plain": [
       "[['82', '509', '510'],\n",
       " ['81', '499', '513'],\n",
       " ['79', '511', '515'],\n",
       " ['77', '495', '505'],\n",
       " ['72', '520', '516'],\n",
       " ['71', '501', '499'],\n",
       " ['71', '500', '499'],\n",
       " ['69', '511', '506'],\n",
       " ['69', '506', '500'],\n",
       " ['68', '510', '501'],\n",
       " ['67', '501', '499'],\n",
       " ['65', '508', '510'],\n",
       " ['65', '493', '499'],\n",
       " ['63', '491', '489'],\n",
       " ['60', '499', '501'],\n",
       " ['57', '486', '488'],\n",
       " ['56', '482', '474'],\n",
       " ['55', '526', '526'],\n",
       " ['54', '498', '499'],\n",
       " ['53', '527', '527'],\n",
       " ['53', '493', '499'],\n",
       " ['52', '485', '515'],\n",
       " ['51', '514', '510'],\n",
       " ['51', '498', '517'],\n",
       " ['34', '523', '525'],\n",
       " ['33', '509', '515'],\n",
       " ['31', '539', '542'],\n",
       " ['26', '534', '439'],\n",
       " ['23', '539', '539'],\n",
       " ['18', '527', '512'],\n",
       " ['17', '543', '542'],\n",
       " ['13', '562', '553'],\n",
       " ['13', '551', '542'],\n",
       " ['12', '576', '589'],\n",
       " ['12', '550', '550'],\n",
       " ['11', '547', '545'],\n",
       " ['11', '561', '572'],\n",
       " ['9', '580', '589'],\n",
       " ['9', '577', '580'],\n",
       " ['9', '559', '554'],\n",
       " ['8', '562', '568'],\n",
       " ['8', '567', '561'],\n",
       " ['8', '577', '577'],\n",
       " ['7', '564', '562'],\n",
       " ['6', '584', '596'],\n",
       " ['6', '562', '550'],\n",
       " ['5', '575', '570'],\n",
       " ['5', '593', '603'],\n",
       " ['4', '577', '582'],\n",
       " ['4', '592', '599'],\n",
       " ['4', '566', '551'],\n",
       " ['45', '506', '514']]"
      ]
     },
     "execution_count": 6,
     "metadata": {},
     "output_type": "execute_result"
    }
   ],
   "source": [
    "scores_list"
   ]
  },
  {
   "cell_type": "code",
   "execution_count": 25,
   "metadata": {
    "collapsed": true
   },
   "outputs": [
    {
     "data": {
      "text/plain": [
       "[['CT', '82', '509', '510'],\n",
       " ['NJ', '81', '499', '513'],\n",
       " ['MA', '79', '511', '515'],\n",
       " ['NY', '77', '495', '505'],\n",
       " ['NH', '72', '520', '516'],\n",
       " ['RI', '71', '501', '499'],\n",
       " ['PA', '71', '500', '499'],\n",
       " ['VT', '69', '511', '506'],\n",
       " ['ME', '69', '506', '500'],\n",
       " ['VA', '68', '510', '501'],\n",
       " ['DE', '67', '501', '499'],\n",
       " ['MD', '65', '508', '510'],\n",
       " ['NC', '65', '493', '499'],\n",
       " ['GA', '63', '491', '489'],\n",
       " ['IN', '60', '499', '501'],\n",
       " ['SC', '57', '486', '488'],\n",
       " ['DC', '56', '482', '474'],\n",
       " ['OR', '55', '526', '526'],\n",
       " ['FL', '54', '498', '499'],\n",
       " ['WA', '53', '527', '527'],\n",
       " ['TX', '53', '493', '499'],\n",
       " ['HI', '52', '485', '515'],\n",
       " ['AK', '51', '514', '510'],\n",
       " ['CA', '51', '498', '517'],\n",
       " ['AZ', '34', '523', '525'],\n",
       " ['NV', '33', '509', '515'],\n",
       " ['CO', '31', '539', '542'],\n",
       " ['OH', '26', '534', '439'],\n",
       " ['MT', '23', '539', '539'],\n",
       " ['WV', '18', '527', '512'],\n",
       " ['ID', '17', '543', '542'],\n",
       " ['TN', '13', '562', '553'],\n",
       " ['NM', '13', '551', '542'],\n",
       " ['IL', '12', '576', '589'],\n",
       " ['KY', '12', '550', '550'],\n",
       " ['WY', '11', '547', '545'],\n",
       " ['MI', '11', '561', '572'],\n",
       " ['MN', '9', '580', '589'],\n",
       " ['KS', '9', '577', '580'],\n",
       " ['AL', '9', '559', '554'],\n",
       " ['NE', '8', '562', '568'],\n",
       " ['OK', '8', '567', '561'],\n",
       " ['MO', '8', '577', '577'],\n",
       " ['LA', '7', '564', '562'],\n",
       " ['WI', '6', '584', '596'],\n",
       " ['AR', '6', '562', '550'],\n",
       " ['UT', '5', '575', '570'],\n",
       " ['IA', '5', '593', '603'],\n",
       " ['SD', '4', '577', '582'],\n",
       " ['ND', '4', '592', '599'],\n",
       " ['MS', '4', '566', '551'],\n",
       " ['All', '45', '506', '514']]"
      ]
     },
     "execution_count": 25,
     "metadata": {},
     "output_type": "execute_result"
    }
   ],
   "source": [
    "sat_scores_data"
   ]
  },
  {
   "cell_type": "code",
   "execution_count": 17,
   "metadata": {
    "collapsed": true
   },
   "outputs": [
    {
     "data": {
      "text/plain": [
       "[['CT'],\n",
       " ['NJ'],\n",
       " ['MA'],\n",
       " ['NY'],\n",
       " ['NH'],\n",
       " ['RI'],\n",
       " ['PA'],\n",
       " ['VT'],\n",
       " ['ME'],\n",
       " ['VA'],\n",
       " ['DE'],\n",
       " ['MD'],\n",
       " ['NC'],\n",
       " ['GA'],\n",
       " ['IN'],\n",
       " ['SC'],\n",
       " ['DC'],\n",
       " ['OR'],\n",
       " ['FL'],\n",
       " ['WA'],\n",
       " ['TX'],\n",
       " ['HI'],\n",
       " ['AK'],\n",
       " ['CA'],\n",
       " ['AZ'],\n",
       " ['NV'],\n",
       " ['CO'],\n",
       " ['OH'],\n",
       " ['MT'],\n",
       " ['WV'],\n",
       " ['ID'],\n",
       " ['TN'],\n",
       " ['NM'],\n",
       " ['IL'],\n",
       " ['KY'],\n",
       " ['WY'],\n",
       " ['MI'],\n",
       " ['MN'],\n",
       " ['KS'],\n",
       " ['AL'],\n",
       " ['NE'],\n",
       " ['OK'],\n",
       " ['MO'],\n",
       " ['LA'],\n",
       " ['WI'],\n",
       " ['AR'],\n",
       " ['UT'],\n",
       " ['IA'],\n",
       " ['SD'],\n",
       " ['ND'],\n",
       " ['MS'],\n",
       " ['All']]"
      ]
     },
     "execution_count": 17,
     "metadata": {},
     "output_type": "execute_result"
    }
   ],
   "source": [
    "state_list"
   ]
  },
  {
   "cell_type": "markdown",
   "metadata": {},
   "source": [
    "##### 8. Print the types of each column"
   ]
  },
  {
   "cell_type": "code",
   "execution_count": 31,
   "metadata": {
    "collapsed": false
   },
   "outputs": [
    {
     "name": "stdout",
     "output_type": "stream",
     "text": [
      "<type 'list'>\n",
      "<type 'list'>\n"
     ]
    }
   ],
   "source": [
    "#TO DO\n",
    "\n",
    "print(type(labels))\n",
    "print(type(sat_scores_data))"
   ]
  },
  {
   "cell_type": "markdown",
   "metadata": {},
   "source": [
    "##### 9. Do any types need to be reassigned? If so, go ahead and do it."
   ]
  },
  {
   "cell_type": "code",
   "execution_count": null,
   "metadata": {
    "collapsed": false
   },
   "outputs": [],
   "source": []
  },
  {
   "cell_type": "markdown",
   "metadata": {},
   "source": [
    "##### 10. Create a dictionary for each column mapping the State to its respective value for that column. "
   ]
  },
  {
   "cell_type": "code",
   "execution_count": 7,
   "metadata": {
    "collapsed": false,
    "scrolled": true
   },
   "outputs": [],
   "source": [
    "# each state in state_data append row of sat_scores\n",
    "state_data = {}\n",
    "for column_name in sat_scores_data:\n",
    "    states = column_name[0]\n",
    "    data = column_name[1:4]\n",
    "    state_data[states] = datas\n",
    "\n",
    "        "
   ]
  },
  {
   "cell_type": "code",
   "execution_count": 8,
   "metadata": {
    "collapsed": false,
    "scrolled": true
   },
   "outputs": [
    {
     "data": {
      "text/plain": [
       "{'AK': ['51', '514', '510'],\n",
       " 'AL': ['9', '559', '554'],\n",
       " 'AR': ['6', '562', '550'],\n",
       " 'AZ': ['34', '523', '525'],\n",
       " 'All': ['45', '506', '514'],\n",
       " 'CA': ['51', '498', '517'],\n",
       " 'CO': ['31', '539', '542'],\n",
       " 'CT': ['82', '509', '510'],\n",
       " 'DC': ['56', '482', '474'],\n",
       " 'DE': ['67', '501', '499'],\n",
       " 'FL': ['54', '498', '499'],\n",
       " 'GA': ['63', '491', '489'],\n",
       " 'HI': ['52', '485', '515'],\n",
       " 'IA': ['5', '593', '603'],\n",
       " 'ID': ['17', '543', '542'],\n",
       " 'IL': ['12', '576', '589'],\n",
       " 'IN': ['60', '499', '501'],\n",
       " 'KS': ['9', '577', '580'],\n",
       " 'KY': ['12', '550', '550'],\n",
       " 'LA': ['7', '564', '562'],\n",
       " 'MA': ['79', '511', '515'],\n",
       " 'MD': ['65', '508', '510'],\n",
       " 'ME': ['69', '506', '500'],\n",
       " 'MI': ['11', '561', '572'],\n",
       " 'MN': ['9', '580', '589'],\n",
       " 'MO': ['8', '577', '577'],\n",
       " 'MS': ['4', '566', '551'],\n",
       " 'MT': ['23', '539', '539'],\n",
       " 'NC': ['65', '493', '499'],\n",
       " 'ND': ['4', '592', '599'],\n",
       " 'NE': ['8', '562', '568'],\n",
       " 'NH': ['72', '520', '516'],\n",
       " 'NJ': ['81', '499', '513'],\n",
       " 'NM': ['13', '551', '542'],\n",
       " 'NV': ['33', '509', '515'],\n",
       " 'NY': ['77', '495', '505'],\n",
       " 'OH': ['26', '534', '439'],\n",
       " 'OK': ['8', '567', '561'],\n",
       " 'OR': ['55', '526', '526'],\n",
       " 'PA': ['71', '500', '499'],\n",
       " 'RI': ['71', '501', '499'],\n",
       " 'SC': ['57', '486', '488'],\n",
       " 'SD': ['4', '577', '582'],\n",
       " 'TN': ['13', '562', '553'],\n",
       " 'TX': ['53', '493', '499'],\n",
       " 'UT': ['5', '575', '570'],\n",
       " 'VA': ['68', '510', '501'],\n",
       " 'VT': ['69', '511', '506'],\n",
       " 'WA': ['53', '527', '527'],\n",
       " 'WI': ['6', '584', '596'],\n",
       " 'WV': ['18', '527', '512'],\n",
       " 'WY': ['11', '547', '545']}"
      ]
     },
     "execution_count": 8,
     "metadata": {},
     "output_type": "execute_result"
    }
   ],
   "source": [
    "state_data"
   ]
  },
  {
   "cell_type": "markdown",
   "metadata": {},
   "source": [
    "##### 11. Create a dictionary with the values for each of the numeric columns"
   ]
  },
  {
   "cell_type": "code",
   "execution_count": null,
   "metadata": {
    "collapsed": false
   },
   "outputs": [],
   "source": [
    "sum_dict = {}"
   ]
  },
  {
   "cell_type": "markdown",
   "metadata": {},
   "source": [
    "## Step 3: Describe the data"
   ]
  },
  {
   "cell_type": "markdown",
   "metadata": {},
   "source": [
    "##### 12. Print the min and max of each column"
   ]
  },
  {
   "cell_type": "code",
   "execution_count": null,
   "metadata": {
    "collapsed": false
   },
   "outputs": [],
   "source": []
  },
  {
   "cell_type": "markdown",
   "metadata": {},
   "source": [
    "##### 13. Write a function using only list comprehensions, no loops, to compute Standard Deviation. Print the Standard Deviation of each numeric column."
   ]
  },
  {
   "cell_type": "code",
   "execution_count": null,
   "metadata": {
    "collapsed": false
   },
   "outputs": [],
   "source": []
  },
  {
   "cell_type": "markdown",
   "metadata": {},
   "source": [
    "## Step 4: Visualize the data"
   ]
  },
  {
   "cell_type": "markdown",
   "metadata": {
    "collapsed": true
   },
   "source": [
    "##### 14. Using MatPlotLib and PyPlot, plot the distribution of the Rate using histograms."
   ]
  },
  {
   "cell_type": "code",
   "execution_count": null,
   "metadata": {
    "collapsed": false
   },
   "outputs": [],
   "source": []
  },
  {
   "cell_type": "markdown",
   "metadata": {},
   "source": [
    "##### 15. Plot the Math distribution"
   ]
  },
  {
   "cell_type": "code",
   "execution_count": null,
   "metadata": {
    "collapsed": false
   },
   "outputs": [],
   "source": []
  },
  {
   "cell_type": "markdown",
   "metadata": {},
   "source": [
    "##### 16. Plot the Verbal distribution"
   ]
  },
  {
   "cell_type": "code",
   "execution_count": null,
   "metadata": {
    "collapsed": false
   },
   "outputs": [],
   "source": []
  },
  {
   "cell_type": "markdown",
   "metadata": {},
   "source": [
    "##### 17. What is the typical assumption for data distribution?"
   ]
  },
  {
   "cell_type": "code",
   "execution_count": null,
   "metadata": {
    "collapsed": false
   },
   "outputs": [],
   "source": []
  },
  {
   "cell_type": "markdown",
   "metadata": {},
   "source": [
    "##### 18. Does that distribution hold true for our data?"
   ]
  },
  {
   "cell_type": "code",
   "execution_count": null,
   "metadata": {
    "collapsed": false
   },
   "outputs": [],
   "source": []
  },
  {
   "cell_type": "markdown",
   "metadata": {},
   "source": [
    "##### 19. Plot some scatterplots. **BONUS**: Use a PyPlot `figure` to present multiple plots at once."
   ]
  },
  {
   "cell_type": "code",
   "execution_count": null,
   "metadata": {
    "collapsed": false
   },
   "outputs": [],
   "source": []
  },
  {
   "cell_type": "markdown",
   "metadata": {},
   "source": [
    "##### 20. Are there any interesting relationships to note?"
   ]
  },
  {
   "cell_type": "code",
   "execution_count": null,
   "metadata": {
    "collapsed": false
   },
   "outputs": [],
   "source": []
  },
  {
   "cell_type": "markdown",
   "metadata": {},
   "source": [
    "##### 21. Create box plots for each variable. "
   ]
  },
  {
   "cell_type": "code",
   "execution_count": null,
   "metadata": {
    "collapsed": false
   },
   "outputs": [],
   "source": []
  },
  {
   "cell_type": "markdown",
   "metadata": {},
   "source": [
    "##### BONUS: Using Tableau, create a heat map for each variable using a map of the US. "
   ]
  },
  {
   "cell_type": "code",
   "execution_count": null,
   "metadata": {
    "collapsed": true
   },
   "outputs": [],
   "source": []
  }
 ],
 "metadata": {
  "anaconda-cloud": {},
  "kernelspec": {
   "display_name": "Python [conda env:py27]",
   "language": "python",
   "name": "conda-env-py27-py"
  },
  "language_info": {
   "codemirror_mode": {
    "name": "ipython",
    "version": 2
   },
   "file_extension": ".py",
   "mimetype": "text/x-python",
   "name": "python",
   "nbconvert_exporter": "python",
   "pygments_lexer": "ipython2",
   "version": "2.7.12"
  }
 },
 "nbformat": 4,
 "nbformat_minor": 0
}
